{
 "cells": [
  {
   "cell_type": "code",
   "execution_count": 1,
   "id": "1ef11690-bda9-41ef-8790-ee8709fe6916",
   "metadata": {},
   "outputs": [
    {
     "name": "stdout",
     "output_type": "stream",
     "text": [
      "Hello from Binder!\n"
     ]
    }
   ],
   "source": [
    "#hello py\n",
    "print(\"Hello from Binder!\")"
   ]
  },
  {
   "cell_type": "code",
   "execution_count": null,
   "id": "798c26ce-7f35-423a-bb45-e67f1837f832",
   "metadata": {},
   "outputs": [],
   "source": []
  }
 ],
 "metadata": {
  "kernelspec": {
   "display_name": "Python 3 (ipykernel)",
   "language": "python",
   "name": "python3"
  },
  "language_info": {
   "codemirror_mode": {
    "name": "ipython",
    "version": 3
   },
   "file_extension": ".py",
   "mimetype": "text/x-python",
   "name": "python",
   "nbconvert_exporter": "python",
   "pygments_lexer": "ipython3",
   "version": "3.10.19"
  }
 },
 "nbformat": 4,
 "nbformat_minor": 5
}
